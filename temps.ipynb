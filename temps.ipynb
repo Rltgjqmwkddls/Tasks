{
 "cells": [
  {
   "cell_type": "markdown",
   "metadata": {},
   "source": [
    "### 기온에 따른 지면 온도를 예측해보기(코랩에서 실행)"
   ]
  },
  {
   "cell_type": "code",
   "execution_count": 4,
   "metadata": {},
   "outputs": [],
   "source": [
    "import numpy as np\n",
    "import pandas as pd\n",
    "import torch\n",
    "import torch.nn as nn\n",
    "import matplotlib.pyplot as plt"
   ]
  },
  {
   "cell_type": "code",
   "execution_count": 9,
   "metadata": {},
   "outputs": [
    {
     "data": {
      "text/html": [
       "<div>\n",
       "<style scoped>\n",
       "    .dataframe tbody tr th:only-of-type {\n",
       "        vertical-align: middle;\n",
       "    }\n",
       "\n",
       "    .dataframe tbody tr th {\n",
       "        vertical-align: top;\n",
       "    }\n",
       "\n",
       "    .dataframe thead th {\n",
       "        text-align: right;\n",
       "    }\n",
       "</style>\n",
       "<table border=\"1\" class=\"dataframe\">\n",
       "  <thead>\n",
       "    <tr style=\"text-align: right;\">\n",
       "      <th></th>\n",
       "      <th>지점</th>\n",
       "      <th>지점명</th>\n",
       "      <th>일시</th>\n",
       "      <th>기온(°C)</th>\n",
       "      <th>지면온도(°C)</th>\n",
       "    </tr>\n",
       "  </thead>\n",
       "  <tbody>\n",
       "    <tr>\n",
       "      <th>0</th>\n",
       "      <td>232</td>\n",
       "      <td>천안</td>\n",
       "      <td>2020-01-01 01:00</td>\n",
       "      <td>-8.7</td>\n",
       "      <td>-2.9</td>\n",
       "    </tr>\n",
       "    <tr>\n",
       "      <th>1</th>\n",
       "      <td>232</td>\n",
       "      <td>천안</td>\n",
       "      <td>2020-01-01 02:00</td>\n",
       "      <td>-7.3</td>\n",
       "      <td>-2.4</td>\n",
       "    </tr>\n",
       "    <tr>\n",
       "      <th>2</th>\n",
       "      <td>232</td>\n",
       "      <td>천안</td>\n",
       "      <td>2020-01-01 03:00</td>\n",
       "      <td>-6.7</td>\n",
       "      <td>-2.2</td>\n",
       "    </tr>\n",
       "    <tr>\n",
       "      <th>3</th>\n",
       "      <td>232</td>\n",
       "      <td>천안</td>\n",
       "      <td>2020-01-01 04:00</td>\n",
       "      <td>-6.2</td>\n",
       "      <td>-2.0</td>\n",
       "    </tr>\n",
       "    <tr>\n",
       "      <th>4</th>\n",
       "      <td>232</td>\n",
       "      <td>천안</td>\n",
       "      <td>2020-01-01 05:00</td>\n",
       "      <td>-5.9</td>\n",
       "      <td>-1.9</td>\n",
       "    </tr>\n",
       "    <tr>\n",
       "      <th>...</th>\n",
       "      <td>...</td>\n",
       "      <td>...</td>\n",
       "      <td>...</td>\n",
       "      <td>...</td>\n",
       "      <td>...</td>\n",
       "    </tr>\n",
       "    <tr>\n",
       "      <th>8777</th>\n",
       "      <td>232</td>\n",
       "      <td>천안</td>\n",
       "      <td>2020-12-31 19:00</td>\n",
       "      <td>-6.6</td>\n",
       "      <td>-0.6</td>\n",
       "    </tr>\n",
       "    <tr>\n",
       "      <th>8778</th>\n",
       "      <td>232</td>\n",
       "      <td>천안</td>\n",
       "      <td>2020-12-31 20:00</td>\n",
       "      <td>-6.4</td>\n",
       "      <td>-0.7</td>\n",
       "    </tr>\n",
       "    <tr>\n",
       "      <th>8779</th>\n",
       "      <td>232</td>\n",
       "      <td>천안</td>\n",
       "      <td>2020-12-31 21:00</td>\n",
       "      <td>-7.3</td>\n",
       "      <td>-1.2</td>\n",
       "    </tr>\n",
       "    <tr>\n",
       "      <th>8780</th>\n",
       "      <td>232</td>\n",
       "      <td>천안</td>\n",
       "      <td>2020-12-31 22:00</td>\n",
       "      <td>-9.0</td>\n",
       "      <td>-1.5</td>\n",
       "    </tr>\n",
       "    <tr>\n",
       "      <th>8781</th>\n",
       "      <td>232</td>\n",
       "      <td>천안</td>\n",
       "      <td>2020-12-31 23:00</td>\n",
       "      <td>-9.2</td>\n",
       "      <td>-1.2</td>\n",
       "    </tr>\n",
       "  </tbody>\n",
       "</table>\n",
       "<p>8782 rows × 5 columns</p>\n",
       "</div>"
      ],
      "text/plain": [
       "       지점 지점명                일시  기온(°C)  지면온도(°C)\n",
       "0     232  천안  2020-01-01 01:00    -8.7      -2.9\n",
       "1     232  천안  2020-01-01 02:00    -7.3      -2.4\n",
       "2     232  천안  2020-01-01 03:00    -6.7      -2.2\n",
       "3     232  천안  2020-01-01 04:00    -6.2      -2.0\n",
       "4     232  천안  2020-01-01 05:00    -5.9      -1.9\n",
       "...   ...  ..               ...     ...       ...\n",
       "8777  232  천안  2020-12-31 19:00    -6.6      -0.6\n",
       "8778  232  천안  2020-12-31 20:00    -6.4      -0.7\n",
       "8779  232  천안  2020-12-31 21:00    -7.3      -1.2\n",
       "8780  232  천안  2020-12-31 22:00    -9.0      -1.5\n",
       "8781  232  천안  2020-12-31 23:00    -9.2      -1.2\n",
       "\n",
       "[8782 rows x 5 columns]"
      ]
     },
     "execution_count": 9,
     "metadata": {},
     "output_type": "execute_result"
    }
   ],
   "source": [
    "df = pd.read_csv(\"data/temps.csv\", encoding=\"ms949\")\n",
    "df"
   ]
  },
  {
   "cell_type": "code",
   "execution_count": 10,
   "metadata": {},
   "outputs": [
    {
     "data": {
      "text/plain": [
       "0.00034160783420633114"
      ]
     },
     "execution_count": 10,
     "metadata": {},
     "output_type": "execute_result"
    }
   ],
   "source": [
    "df[\"기온(°C)\"].isnull().mean()"
   ]
  },
  {
   "cell_type": "code",
   "execution_count": 11,
   "metadata": {},
   "outputs": [],
   "source": [
    "df.dropna(inplace=True)"
   ]
  },
  {
   "cell_type": "code",
   "execution_count": 12,
   "metadata": {},
   "outputs": [],
   "source": [
    "x_data = df[['기온(°C)']]\n",
    "y_data = df[['지면온도(°C)']]"
   ]
  },
  {
   "cell_type": "code",
   "execution_count": 13,
   "metadata": {},
   "outputs": [
    {
     "name": "stdout",
     "output_type": "stream",
     "text": [
      "torch.Size([8779, 1]) torch.Size([8779, 1])\n"
     ]
    }
   ],
   "source": [
    "x_data = torch.FloatTensor(x_data.values)\n",
    "y_data = torch.FloatTensor(y_data.values)\n",
    "print(x_data.shape, y_data.shape)"
   ]
  },
  {
   "cell_type": "code",
   "execution_count": 14,
   "metadata": {},
   "outputs": [
    {
     "name": "stdout",
     "output_type": "stream",
     "text": [
      "Linear(in_features=1, out_features=1, bias=True)\n"
     ]
    }
   ],
   "source": [
    "model = nn.Linear(1, 1)\n",
    "print(model)"
   ]
  },
  {
   "cell_type": "code",
   "execution_count": 15,
   "metadata": {},
   "outputs": [
    {
     "data": {
      "text/plain": [
       "<matplotlib.collections.PathCollection at 0x185e8e67b80>"
      ]
     },
     "execution_count": 15,
     "metadata": {},
     "output_type": "execute_result"
    },
    {
     "data": {
      "image/png": "[encoded data removed]",
      "text/plain": [
       "<Figure size 800x600 with 1 Axes>"
      ]
     },
     "metadata": {},
     "output_type": "display_data"
    }
   ],
   "source": [
    "plt.figure(figsize=(8, 6))\n",
    "plt.scatter(x_data, y_data)"
   ]
  },
  {
   "cell_type": "code",
   "execution_count": 16,
   "metadata": {},
   "outputs": [
    {
     "name": "stdout",
     "output_type": "stream",
     "text": [
      "[Parameter containing:\n",
      "tensor([[-0.9781]], requires_grad=True), Parameter containing:\n",
      "tensor([-0.7927], requires_grad=True)]\n"
     ]
    }
   ],
   "source": [
    "model = nn.Linear(1,1)\n",
    "\n",
    "optimizer = torch.optim.SGD(model.parameters(), lr=0.001)\n",
    "print(list(model.parameters()))"
   ]
  },
  {
   "cell_type": "code",
   "execution_count": 17,
   "metadata": {},
   "outputs": [
    {
     "name": "stdout",
     "output_type": "stream",
     "text": [
      "Epoch: 10000/10000 Loss: 1169.936890\n",
      "Epoch: 10000/10000 Loss: 13.743072\n",
      "Epoch: 10000/10000 Loss: 13.625229\n",
      "Epoch: 10000/10000 Loss: 13.525041\n",
      "Epoch: 10000/10000 Loss: 13.439858\n",
      "Epoch: 10000/10000 Loss: 13.367435\n",
      "Epoch: 10000/10000 Loss: 13.305861\n",
      "Epoch: 10000/10000 Loss: 13.253510\n",
      "Epoch: 10000/10000 Loss: 13.209002\n",
      "Epoch: 10000/10000 Loss: 13.171161\n",
      "Epoch: 10000/10000 Loss: 13.138987\n",
      "Epoch: 10000/10000 Loss: 13.111632\n",
      "Epoch: 10000/10000 Loss: 13.088378\n",
      "Epoch: 10000/10000 Loss: 13.068604\n",
      "Epoch: 10000/10000 Loss: 13.051794\n",
      "Epoch: 10000/10000 Loss: 13.037500\n",
      "Epoch: 10000/10000 Loss: 13.025350\n",
      "Epoch: 10000/10000 Loss: 13.015018\n",
      "Epoch: 10000/10000 Loss: 13.006233\n",
      "Epoch: 10000/10000 Loss: 12.998766\n",
      "Epoch: 10000/10000 Loss: 12.992417\n",
      "Epoch: 10000/10000 Loss: 12.987019\n",
      "Epoch: 10000/10000 Loss: 12.982429\n",
      "Epoch: 10000/10000 Loss: 12.978525\n",
      "Epoch: 10000/10000 Loss: 12.975209\n",
      "Epoch: 10000/10000 Loss: 12.972388\n",
      "Epoch: 10000/10000 Loss: 12.969991\n",
      "Epoch: 10000/10000 Loss: 12.967951\n",
      "Epoch: 10000/10000 Loss: 12.966217\n",
      "Epoch: 10000/10000 Loss: 12.964745\n",
      "Epoch: 10000/10000 Loss: 12.963491\n",
      "Epoch: 10000/10000 Loss: 12.962425\n",
      "Epoch: 10000/10000 Loss: 12.961519\n",
      "Epoch: 10000/10000 Loss: 12.960749\n",
      "Epoch: 10000/10000 Loss: 12.960094\n",
      "Epoch: 10000/10000 Loss: 12.959537\n",
      "Epoch: 10000/10000 Loss: 12.959066\n",
      "Epoch: 10000/10000 Loss: 12.958662\n",
      "Epoch: 10000/10000 Loss: 12.958320\n",
      "Epoch: 10000/10000 Loss: 12.958029\n",
      "Epoch: 10000/10000 Loss: 12.957782\n",
      "Epoch: 10000/10000 Loss: 12.957571\n",
      "Epoch: 10000/10000 Loss: 12.957393\n",
      "Epoch: 10000/10000 Loss: 12.957242\n",
      "Epoch: 10000/10000 Loss: 12.957111\n",
      "Epoch: 10000/10000 Loss: 12.957002\n",
      "Epoch: 10000/10000 Loss: 12.956908\n",
      "Epoch: 10000/10000 Loss: 12.956829\n",
      "Epoch: 10000/10000 Loss: 12.956760\n",
      "Epoch: 10000/10000 Loss: 12.956704\n",
      "Epoch: 10000/10000 Loss: 12.956656\n",
      "Epoch: 10000/10000 Loss: 12.956613\n",
      "Epoch: 10000/10000 Loss: 12.956578\n",
      "Epoch: 10000/10000 Loss: 12.956549\n",
      "Epoch: 10000/10000 Loss: 12.956524\n",
      "Epoch: 10000/10000 Loss: 12.956501\n",
      "Epoch: 10000/10000 Loss: 12.956484\n",
      "Epoch: 10000/10000 Loss: 12.956467\n",
      "Epoch: 10000/10000 Loss: 12.956455\n",
      "Epoch: 10000/10000 Loss: 12.956443\n",
      "Epoch: 10000/10000 Loss: 12.956433\n",
      "Epoch: 10000/10000 Loss: 12.956426\n",
      "Epoch: 10000/10000 Loss: 12.956419\n",
      "Epoch: 10000/10000 Loss: 12.956412\n",
      "Epoch: 10000/10000 Loss: 12.956406\n",
      "Epoch: 10000/10000 Loss: 12.956404\n",
      "Epoch: 10000/10000 Loss: 12.956400\n",
      "Epoch: 10000/10000 Loss: 12.956396\n",
      "Epoch: 10000/10000 Loss: 12.956392\n",
      "Epoch: 10000/10000 Loss: 12.956391\n",
      "Epoch: 10000/10000 Loss: 12.956388\n",
      "Epoch: 10000/10000 Loss: 12.956388\n",
      "Epoch: 10000/10000 Loss: 12.956387\n",
      "Epoch: 10000/10000 Loss: 12.956385\n",
      "Epoch: 10000/10000 Loss: 12.956385\n",
      "Epoch: 10000/10000 Loss: 12.956383\n",
      "Epoch: 10000/10000 Loss: 12.956382\n",
      "Epoch: 10000/10000 Loss: 12.956382\n",
      "Epoch: 10000/10000 Loss: 12.956380\n",
      "Epoch: 10000/10000 Loss: 12.956382\n",
      "Epoch: 10000/10000 Loss: 12.956380\n",
      "Epoch: 10000/10000 Loss: 12.956380\n",
      "Epoch: 10000/10000 Loss: 12.956382\n",
      "Epoch: 10000/10000 Loss: 12.956379\n",
      "Epoch: 10000/10000 Loss: 12.956380\n",
      "Epoch: 10000/10000 Loss: 12.956380\n",
      "Epoch: 10000/10000 Loss: 12.956379\n",
      "Epoch: 10000/10000 Loss: 12.956379\n",
      "Epoch: 10000/10000 Loss: 12.956379\n",
      "Epoch: 10000/10000 Loss: 12.956379\n",
      "Epoch: 10000/10000 Loss: 12.956379\n",
      "Epoch: 10000/10000 Loss: 12.956379\n",
      "Epoch: 10000/10000 Loss: 12.956379\n",
      "Epoch: 10000/10000 Loss: 12.956380\n",
      "Epoch: 10000/10000 Loss: 12.956379\n",
      "Epoch: 10000/10000 Loss: 12.956379\n",
      "Epoch: 10000/10000 Loss: 12.956379\n",
      "Epoch: 10000/10000 Loss: 12.956378\n",
      "Epoch: 10000/10000 Loss: 12.956379\n",
      "Epoch: 10000/10000 Loss: 12.956378\n",
      "Epoch: 10000/10000 Loss: 12.956379\n"
     ]
    }
   ],
   "source": [
    "epochs = 10000\n",
    "\n",
    "for i in range(epochs + 1):\n",
    "  y_pred = model(x_data)\n",
    "  loss = nn.MSELoss()(y_pred, y_data)\n",
    "  optimizer.zero_grad()\n",
    "  loss.backward()\n",
    "  optimizer.step()\n",
    "\n",
    "  if i % 100 == 0:\n",
    "    print(f\"Epoch: {epochs}/{epochs} Loss: {loss:.6f}\")"
   ]
  },
  {
   "cell_type": "code",
   "execution_count": 18,
   "metadata": {},
   "outputs": [
    {
     "data": {
      "text/plain": [
       "array([[-8.623497],\n",
       "       [-7.103935],\n",
       "       [-6.452693],\n",
       "       ...,\n",
       "       [-7.103935],\n",
       "       [-8.949118],\n",
       "       [-9.166199]], dtype=float32)"
      ]
     },
     "execution_count": 18,
     "metadata": {},
     "output_type": "execute_result"
    }
   ],
   "source": [
    "y_pred = model(x_data).detach().numpy()\n",
    "y_pred"
   ]
  },
  {
   "cell_type": "code",
   "execution_count": 19,
   "metadata": {},
   "outputs": [
    {
     "data": {
      "text/plain": [
       "<matplotlib.collections.PathCollection at 0x185e8a0bd90>"
      ]
     },
     "execution_count": 19,
     "metadata": {},
     "output_type": "execute_result"
    },
    {
     "data": {
      "image/png": "[encoded data removed]",
      "text/plain": [
       "<Figure size 800x600 with 1 Axes>"
      ]
     },
     "metadata": {},
     "output_type": "display_data"
    }
   ],
   "source": [
    "plt.figure(figsize=(8, 6))\n",
    "plt.scatter(x_data, y_data)\n",
    "plt.scatter(x_data, y_pred)"
   ]
  },
  {
   "cell_type": "code",
   "execution_count": 20,
   "metadata": {},
   "outputs": [
    {
     "data": {
      "text/plain": [
       "tensor([[29.0400]], grad_fn=<AddmmBackward0>)"
      ]
     },
     "execution_count": 20,
     "metadata": {},
     "output_type": "execute_result"
    }
   ],
   "source": [
    "result = model(torch.FloatTensor([[26]]))\n",
    "result"
   ]
  }
 ],
 "metadata": {
  "kernelspec": {
   "display_name": "Python 3",
   "language": "python",
   "name": "python3"
  },
  "language_info": {
   "codemirror_mode": {
    "name": "ipython",
    "version": 3
   },
   "file_extension": ".py",
   "mimetype": "text/x-python",
   "name": "python",
   "nbconvert_exporter": "python",
   "pygments_lexer": "ipython3",
   "version": "3.10.11"
  }
 },
 "nbformat": 4,
 "nbformat_minor": 2
}
